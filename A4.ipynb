{
 "cells": [
  {
   "cell_type": "markdown",
   "metadata": {},
   "source": [
    "# Analyzing Social Media's Impact on Mental Health\n",
    "\n",
    "## Motivation and Problem Statement \n",
    "\n",
    "Social media has become a central part of daily life. Social media allows for connection and information sharing but there have been growing concerns regarding the impact social media has on user's mental health. Some studies show that certain types of social media usage have a positive correlation with increased anxiety, stress, and a decrease in self-esteem. \n",
    "\n",
    "The goal of this project is to explore how social media usage is associated with mental health. From a Human-Centered perspective, understanding this relationship can help inform mental health educators and promote healthier digital habits. This analysis can also provide insight for individuals to self regulate their social media usage. I want to identify patterns and behaviors that may be associated with positive or negative mental health outcomes. \n",
    "\n",
    "## Data Selected for Analysis \n",
    "\n",
    "The dataset that I want to use is the \"Social Media and Mental Health\" dataset on Kaggle. This dataset has survey responses on various aspects of social media and mental health indicators. It also contains demographic information which can give insights across age groups and gender. \n",
    "\n",
    "[Link to the Dataset](https://www.kaggle.com/datasets/souvikahmed071/social-media-and-mental-health)\n",
    "\n",
    "This dataset is available under the Creative Commons License. \n",
    "\n",
    "I think this dataset is suitable for my research goal because it contains both social media and mental health indicators which is the main part of my analysis. \n",
    "\n",
    "One ethical consideration is that since the data in the dataset is all self-reported, participants may under report or over report  their social media usage and mental health status.  \n",
    "\n",
    "## Unknowns and Dependencies \n",
    "\n",
    "There are a couple of unknowns and dependencies. First is that because the data is all self-reported, there may be biased that affect the accuracy of my findings. Second, there may be missing data that could require extra cleaning. Third, is that the dataset is not really clear on what types of content is consumed on the apps which could effect the results. \n",
    "\n",
    "\n"
   ]
  }
 ],
 "metadata": {
  "language_info": {
   "name": "python"
  }
 },
 "nbformat": 4,
 "nbformat_minor": 2
}

{
 "cells": [
  {
   "cell_type": "markdown",
   "metadata": {},
   "source": [
    "# Analyzing Social Media's Impact on Mental Health\n",
    "\n",
    "## Motivation and Problem Statement \n",
    "\n",
    "Social media has become a central part of daily life. Social media allows for connection and information sharing but there have been growing concerns regarding the impact social media has on user's mental health. Some studies show that certain types of social media usage have a positive correlation with increased anxiety, stress, and a decrease in self-esteem. \n",
    "\n",
    "The goal of this project is to explore how social media usage is associated with mental health. From a Human-Centered perspective, understanding this relationship can help inform mental health educators and promote healthier digital habits. This analysis can also provide insight for individuals to self-regulate their social media usage. I want to identify patterns and behaviors that may be associated with positive or negative mental health outcomes. \n",
    "\n",
    "## Data Selected for Analysis \n",
    "\n",
    "The dataset that I want to use is the \"Social Media and Mental Health\" dataset on Kaggle. This dataset has survey responses on various aspects of social media and mental health indicators. It also contains demographic information which can give insights across age groups and gender. \n",
    "\n",
    "[Link to the Dataset](https://www.kaggle.com/datasets/souvikahmed071/social-media-and-mental-health)\n",
    "\n",
    "This dataset is available under the Creative Commons License. \n",
    "\n",
    "I think this dataset is suitable for my research goal because it contains both social media and mental health indicators which is the main part of my analysis. \n",
    "\n",
    "One ethical consideration is that since the data in the dataset is all self-reported, participants may under-report or over-report  their social media usage and mental health status.  \n",
    "\n",
    "## Unknowns and Dependencies \n",
    "\n",
    "There are a couple of unknowns and dependencies. First is that because the data is all self-reported, there may be biased that affect the accuracy of my findings. Second, there may be missing data that could require extra cleaning. Third, is that the dataset is not really clear on what types of content is consumed on the apps which could effect the results. \n",
    "\n",
    "## Overview \n",
    "\n",
    "This project aims to investigate the relationship between social media usage patterns and mental health. By analyzing survey data on social media usage and mental health indicators, the goal is to find patterns of how social media use may correlate with positive or negative mental health. Insights from this research could help individuals regulate their social media usage and make healthier digital habits. \n",
    "\n",
    "## Research Questions \n",
    "\n",
    "1. How does the amount of time spent on social media correlate with levels of anxiety and stress among users?\n",
    "2. Does the type of content consumed on social media impact mental health differently?\n",
    "3. Are there differences in mental health impacts of social media based on demographic factors? \n",
    "\n",
    "\n",
    "## Background and Related Work \n",
    "\n",
    "social media's impact on mental health has been a hot topic with multiple studies showing both positive and negative correlations. Research studies have shown that prolonged use of social media can be associated with higher levels of depression and loneliness. It was also found that teenagers who spent more than three hours a day on social media felt isolated (https://pmc.ncbi.nlm.nih.gov/articles/PMC6214874/). \n",
    "\n",
    "On the other hand, some studies have shown that social media has some positive effects. Some users reported feeling more connected and supported, being able to reach out to their friends and keep up with their lives through their posts (https://academic.oup.com/joc/article/71/1/56/6124731?login=false). To me, these mixed findings mean that social media can impact mental health depending on how it is used and the content the users are watching. \n",
    "\n",
    "The previous studies will influence my decisions on this study because they suggest specific factors and demographics to study. Specifically looking at time spent, usage type, platform type, feedback, age, gender, cultural background, and education level.  \n",
    "\n",
    "\n",
    "## Methodology \n",
    "\n",
    "My methodology to investigate this data and present my findings will have multiple steps. First, I will clean and prepare the data. For this dataset, it means renaming the columns because some of them have long names which could make the code messy, and dealing with missing values. \n",
    "\n",
    "Once the data is cleaned and ready, I will calculate some descriptive statistics to get an overview of the dataset. Statistics like mean, median, and standard deviation could help set a baseline and help with analysis. I then plan to create a correlation matrix to highlight any correlations between variables. I also plan to use linear regression to construct a model to examine the coefficients and understand how each of the different factors correlates with mental health. \n",
    "\n",
    "I also plan to create some visualizations as well. I will use a heatmap to show the correlations between different variables, and a bar chart to visualize the differences in mental health outcomes across different usage patterns or demographic groups. \n",
    "\n",
    "I think these methods are good for this study because they allow us to see the overview of relationships through correlations and visualizations and get an in-depth look at how specific behaviors are linked to mental health outcomes through regression. "
   ]
  },
  {
   "cell_type": "markdown",
   "metadata": {},
   "source": [
    "# Data Analysis\n",
    "\n",
    "\n",
    "### Data Preprocessing  \n",
    "\n",
    "First get all of the relevant imports for the analysis"
   ]
  },
  {
   "cell_type": "code",
   "execution_count": 3,
   "metadata": {},
   "outputs": [],
   "source": [
    "import pandas as pd\n"
   ]
  },
  {
   "cell_type": "markdown",
   "metadata": {},
   "source": [
    "Load in the data, and check the first five rows to see what is in the dataset"
   ]
  },
  {
   "cell_type": "code",
   "execution_count": 4,
   "metadata": {},
   "outputs": [
    {
     "data": {
      "text/html": [
       "<div>\n",
       "<style scoped>\n",
       "    .dataframe tbody tr th:only-of-type {\n",
       "        vertical-align: middle;\n",
       "    }\n",
       "\n",
       "    .dataframe tbody tr th {\n",
       "        vertical-align: top;\n",
       "    }\n",
       "\n",
       "    .dataframe thead th {\n",
       "        text-align: right;\n",
       "    }\n",
       "</style>\n",
       "<table border=\"1\" class=\"dataframe\">\n",
       "  <thead>\n",
       "    <tr style=\"text-align: right;\">\n",
       "      <th></th>\n",
       "      <th>Timestamp</th>\n",
       "      <th>1. What is your age?</th>\n",
       "      <th>2. Gender</th>\n",
       "      <th>3. Relationship Status</th>\n",
       "      <th>4. Occupation Status</th>\n",
       "      <th>5. What type of organizations are you affiliated with?</th>\n",
       "      <th>6. Do you use social media?</th>\n",
       "      <th>7. What social media platforms do you commonly use?</th>\n",
       "      <th>8. What is the average time you spend on social media every day?</th>\n",
       "      <th>9. How often do you find yourself using Social media without a specific purpose?</th>\n",
       "      <th>...</th>\n",
       "      <th>11. Do you feel restless if you haven't used Social media in a while?</th>\n",
       "      <th>12. On a scale of 1 to 5, how easily distracted are you?</th>\n",
       "      <th>13. On a scale of 1 to 5, how much are you bothered by worries?</th>\n",
       "      <th>14. Do you find it difficult to concentrate on things?</th>\n",
       "      <th>15. On a scale of 1-5, how often do you compare yourself to other successful people through the use of social media?</th>\n",
       "      <th>16. Following the previous question, how do you feel about these comparisons, generally speaking?</th>\n",
       "      <th>17. How often do you look to seek validation from features of social media?</th>\n",
       "      <th>18. How often do you feel depressed or down?</th>\n",
       "      <th>19. On a scale of 1 to 5, how frequently does your interest in daily activities fluctuate?</th>\n",
       "      <th>20. On a scale of 1 to 5, how often do you face issues regarding sleep?</th>\n",
       "    </tr>\n",
       "  </thead>\n",
       "  <tbody>\n",
       "    <tr>\n",
       "      <th>0</th>\n",
       "      <td>4/18/2022 19:18:47</td>\n",
       "      <td>21.0</td>\n",
       "      <td>Male</td>\n",
       "      <td>In a relationship</td>\n",
       "      <td>University Student</td>\n",
       "      <td>University</td>\n",
       "      <td>Yes</td>\n",
       "      <td>Facebook, Twitter, Instagram, YouTube, Discord...</td>\n",
       "      <td>Between 2 and 3 hours</td>\n",
       "      <td>5</td>\n",
       "      <td>...</td>\n",
       "      <td>2</td>\n",
       "      <td>5</td>\n",
       "      <td>2</td>\n",
       "      <td>5</td>\n",
       "      <td>2</td>\n",
       "      <td>3</td>\n",
       "      <td>2</td>\n",
       "      <td>5</td>\n",
       "      <td>4</td>\n",
       "      <td>5</td>\n",
       "    </tr>\n",
       "    <tr>\n",
       "      <th>1</th>\n",
       "      <td>4/18/2022 19:19:28</td>\n",
       "      <td>21.0</td>\n",
       "      <td>Female</td>\n",
       "      <td>Single</td>\n",
       "      <td>University Student</td>\n",
       "      <td>University</td>\n",
       "      <td>Yes</td>\n",
       "      <td>Facebook, Twitter, Instagram, YouTube, Discord...</td>\n",
       "      <td>More than 5 hours</td>\n",
       "      <td>4</td>\n",
       "      <td>...</td>\n",
       "      <td>2</td>\n",
       "      <td>4</td>\n",
       "      <td>5</td>\n",
       "      <td>4</td>\n",
       "      <td>5</td>\n",
       "      <td>1</td>\n",
       "      <td>1</td>\n",
       "      <td>5</td>\n",
       "      <td>4</td>\n",
       "      <td>5</td>\n",
       "    </tr>\n",
       "    <tr>\n",
       "      <th>2</th>\n",
       "      <td>4/18/2022 19:25:59</td>\n",
       "      <td>21.0</td>\n",
       "      <td>Female</td>\n",
       "      <td>Single</td>\n",
       "      <td>University Student</td>\n",
       "      <td>University</td>\n",
       "      <td>Yes</td>\n",
       "      <td>Facebook, Instagram, YouTube, Pinterest</td>\n",
       "      <td>Between 3 and 4 hours</td>\n",
       "      <td>3</td>\n",
       "      <td>...</td>\n",
       "      <td>1</td>\n",
       "      <td>2</td>\n",
       "      <td>5</td>\n",
       "      <td>4</td>\n",
       "      <td>3</td>\n",
       "      <td>3</td>\n",
       "      <td>1</td>\n",
       "      <td>4</td>\n",
       "      <td>2</td>\n",
       "      <td>5</td>\n",
       "    </tr>\n",
       "    <tr>\n",
       "      <th>3</th>\n",
       "      <td>4/18/2022 19:29:43</td>\n",
       "      <td>21.0</td>\n",
       "      <td>Female</td>\n",
       "      <td>Single</td>\n",
       "      <td>University Student</td>\n",
       "      <td>University</td>\n",
       "      <td>Yes</td>\n",
       "      <td>Facebook, Instagram</td>\n",
       "      <td>More than 5 hours</td>\n",
       "      <td>4</td>\n",
       "      <td>...</td>\n",
       "      <td>1</td>\n",
       "      <td>3</td>\n",
       "      <td>5</td>\n",
       "      <td>3</td>\n",
       "      <td>5</td>\n",
       "      <td>1</td>\n",
       "      <td>2</td>\n",
       "      <td>4</td>\n",
       "      <td>3</td>\n",
       "      <td>2</td>\n",
       "    </tr>\n",
       "    <tr>\n",
       "      <th>4</th>\n",
       "      <td>4/18/2022 19:33:31</td>\n",
       "      <td>21.0</td>\n",
       "      <td>Female</td>\n",
       "      <td>Single</td>\n",
       "      <td>University Student</td>\n",
       "      <td>University</td>\n",
       "      <td>Yes</td>\n",
       "      <td>Facebook, Instagram, YouTube</td>\n",
       "      <td>Between 2 and 3 hours</td>\n",
       "      <td>3</td>\n",
       "      <td>...</td>\n",
       "      <td>4</td>\n",
       "      <td>4</td>\n",
       "      <td>5</td>\n",
       "      <td>5</td>\n",
       "      <td>3</td>\n",
       "      <td>3</td>\n",
       "      <td>3</td>\n",
       "      <td>4</td>\n",
       "      <td>4</td>\n",
       "      <td>1</td>\n",
       "    </tr>\n",
       "  </tbody>\n",
       "</table>\n",
       "<p>5 rows × 21 columns</p>\n",
       "</div>"
      ],
      "text/plain": [
       "            Timestamp  1. What is your age? 2. Gender 3. Relationship Status  \\\n",
       "0  4/18/2022 19:18:47                  21.0      Male      In a relationship   \n",
       "1  4/18/2022 19:19:28                  21.0    Female                 Single   \n",
       "2  4/18/2022 19:25:59                  21.0    Female                 Single   \n",
       "3  4/18/2022 19:29:43                  21.0    Female                 Single   \n",
       "4  4/18/2022 19:33:31                  21.0    Female                 Single   \n",
       "\n",
       "  4. Occupation Status 5. What type of organizations are you affiliated with?  \\\n",
       "0   University Student                                         University       \n",
       "1   University Student                                         University       \n",
       "2   University Student                                         University       \n",
       "3   University Student                                         University       \n",
       "4   University Student                                         University       \n",
       "\n",
       "  6. Do you use social media?  \\\n",
       "0                         Yes   \n",
       "1                         Yes   \n",
       "2                         Yes   \n",
       "3                         Yes   \n",
       "4                         Yes   \n",
       "\n",
       "  7. What social media platforms do you commonly use?  \\\n",
       "0  Facebook, Twitter, Instagram, YouTube, Discord...    \n",
       "1  Facebook, Twitter, Instagram, YouTube, Discord...    \n",
       "2            Facebook, Instagram, YouTube, Pinterest    \n",
       "3                                Facebook, Instagram    \n",
       "4                       Facebook, Instagram, YouTube    \n",
       "\n",
       "  8. What is the average time you spend on social media every day?  \\\n",
       "0                              Between 2 and 3 hours                 \n",
       "1                                  More than 5 hours                 \n",
       "2                              Between 3 and 4 hours                 \n",
       "3                                  More than 5 hours                 \n",
       "4                              Between 2 and 3 hours                 \n",
       "\n",
       "   9. How often do you find yourself using Social media without a specific purpose?  \\\n",
       "0                                                  5                                  \n",
       "1                                                  4                                  \n",
       "2                                                  3                                  \n",
       "3                                                  4                                  \n",
       "4                                                  3                                  \n",
       "\n",
       "   ...  11. Do you feel restless if you haven't used Social media in a while?  \\\n",
       "0  ...                                                  2                       \n",
       "1  ...                                                  2                       \n",
       "2  ...                                                  1                       \n",
       "3  ...                                                  1                       \n",
       "4  ...                                                  4                       \n",
       "\n",
       "   12. On a scale of 1 to 5, how easily distracted are you?  \\\n",
       "0                                                  5          \n",
       "1                                                  4          \n",
       "2                                                  2          \n",
       "3                                                  3          \n",
       "4                                                  4          \n",
       "\n",
       "   13. On a scale of 1 to 5, how much are you bothered by worries?  \\\n",
       "0                                                  2                 \n",
       "1                                                  5                 \n",
       "2                                                  5                 \n",
       "3                                                  5                 \n",
       "4                                                  5                 \n",
       "\n",
       "   14. Do you find it difficult to concentrate on things?  \\\n",
       "0                                                  5        \n",
       "1                                                  4        \n",
       "2                                                  4        \n",
       "3                                                  3        \n",
       "4                                                  5        \n",
       "\n",
       "   15. On a scale of 1-5, how often do you compare yourself to other successful people through the use of social media?  \\\n",
       "0                                                  2                                                                      \n",
       "1                                                  5                                                                      \n",
       "2                                                  3                                                                      \n",
       "3                                                  5                                                                      \n",
       "4                                                  3                                                                      \n",
       "\n",
       "   16. Following the previous question, how do you feel about these comparisons, generally speaking?  \\\n",
       "0                                                  3                                                   \n",
       "1                                                  1                                                   \n",
       "2                                                  3                                                   \n",
       "3                                                  1                                                   \n",
       "4                                                  3                                                   \n",
       "\n",
       "   17. How often do you look to seek validation from features of social media?  \\\n",
       "0                                                  2                             \n",
       "1                                                  1                             \n",
       "2                                                  1                             \n",
       "3                                                  2                             \n",
       "4                                                  3                             \n",
       "\n",
       "   18. How often do you feel depressed or down?  \\\n",
       "0                                             5   \n",
       "1                                             5   \n",
       "2                                             4   \n",
       "3                                             4   \n",
       "4                                             4   \n",
       "\n",
       "   19. On a scale of 1 to 5, how frequently does your interest in daily activities fluctuate?  \\\n",
       "0                                                  4                                            \n",
       "1                                                  4                                            \n",
       "2                                                  2                                            \n",
       "3                                                  3                                            \n",
       "4                                                  4                                            \n",
       "\n",
       "   20. On a scale of 1 to 5, how often do you face issues regarding sleep?  \n",
       "0                                                  5                        \n",
       "1                                                  5                        \n",
       "2                                                  5                        \n",
       "3                                                  2                        \n",
       "4                                                  1                        \n",
       "\n",
       "[5 rows x 21 columns]"
      ]
     },
     "execution_count": 4,
     "metadata": {},
     "output_type": "execute_result"
    }
   ],
   "source": [
    "data = pd.read_csv(\"smmh.csv\")\n",
    "data.head(5)"
   ]
  },
  {
   "cell_type": "markdown",
   "metadata": {},
   "source": [
    "Check the shape of the dataset to see how many rows and columns are in the dataset"
   ]
  },
  {
   "cell_type": "code",
   "execution_count": 5,
   "metadata": {},
   "outputs": [
    {
     "data": {
      "text/plain": [
       "(481, 21)"
      ]
     },
     "execution_count": 5,
     "metadata": {},
     "output_type": "execute_result"
    }
   ],
   "source": [
    "data.shape"
   ]
  },
  {
   "cell_type": "markdown",
   "metadata": {},
   "source": [
    "### Working with the Columns\n",
    "\n",
    "When looking at all of the columns in the dataset, we can see that columns 5 through 20 are very long. Renaming the columns will make the data analysis easier "
   ]
  },
  {
   "cell_type": "code",
   "execution_count": 6,
   "metadata": {},
   "outputs": [
    {
     "data": {
      "text/plain": [
       "Index(['Timestamp', '1. What is your age?', '2. Gender',\n",
       "       '3. Relationship Status', '4. Occupation Status',\n",
       "       '5. What type of organizations are you affiliated with?',\n",
       "       '6. Do you use social media?',\n",
       "       '7. What social media platforms do you commonly use?',\n",
       "       '8. What is the average time you spend on social media every day?',\n",
       "       '9. How often do you find yourself using Social media without a specific purpose?',\n",
       "       '10. How often do you get distracted by Social media when you are busy doing something?',\n",
       "       '11. Do you feel restless if you haven't used Social media in a while?',\n",
       "       '12. On a scale of 1 to 5, how easily distracted are you?',\n",
       "       '13. On a scale of 1 to 5, how much are you bothered by worries?',\n",
       "       '14. Do you find it difficult to concentrate on things?',\n",
       "       '15. On a scale of 1-5, how often do you compare yourself to other successful people through the use of social media?',\n",
       "       '16. Following the previous question, how do you feel about these comparisons, generally speaking?',\n",
       "       '17. How often do you look to seek validation from features of social media?',\n",
       "       '18. How often do you feel depressed or down?',\n",
       "       '19. On a scale of 1 to 5, how frequently does your interest in daily activities fluctuate?',\n",
       "       '20. On a scale of 1 to 5, how often do you face issues regarding sleep?'],\n",
       "      dtype='object')"
      ]
     },
     "execution_count": 6,
     "metadata": {},
     "output_type": "execute_result"
    }
   ],
   "source": [
    "data.columns"
   ]
  },
  {
   "cell_type": "code",
   "execution_count": 7,
   "metadata": {},
   "outputs": [
    {
     "data": {
      "text/plain": [
       "Index(['Timestamp', 'Age', 'Gender', 'Relationship Status', 'Occupation',\n",
       "       'Affiliations', 'Social Media User?', 'Platforms Used', 'Hours Per Day',\n",
       "       'ADHD Q1', 'ADHD Q2', 'Anxiety Q1', 'ADHD Q3', 'Anxiety Q2', 'ADHD Q4',\n",
       "       'Self Esteem Q1', 'Self Esteem Q2', 'Self Esteem Q3', 'Depression Q1',\n",
       "       'Depression Q2', 'Depression Q3'],\n",
       "      dtype='object')"
      ]
     },
     "execution_count": 7,
     "metadata": {},
     "output_type": "execute_result"
    }
   ],
   "source": [
    "data.rename(columns = {'1. What is your age?':'Age','2. Gender':'Gender','3. Relationship Status':'Relationship Status',\n",
    "                       '4. Occupation Status':'Occupation',\n",
    "                       '5. What type of organizations are you affiliated with?':'Affiliations',\n",
    "                       '6. Do you use social media?':'Social Media User?',\n",
    "                       '7. What social media platforms do you commonly use?':'Platforms Used',\n",
    "                       '8. What is the average time you spend on social media every day?':'Hours Per Day',\n",
    "                       '9. How often do you find yourself using Social media without a specific purpose?':'ADHD Q1',\n",
    "                       '10. How often do you get distracted by Social media when you are busy doing something?':'ADHD Q2',\n",
    "                       \"11. Do you feel restless if you haven't used Social media in a while?\":'Anxiety Q1',\n",
    "                       '12. On a scale of 1 to 5, how easily distracted are you?':'ADHD Q3',\n",
    "                       '13. On a scale of 1 to 5, how much are you bothered by worries?':'Anxiety Q2',\n",
    "                       '14. Do you find it difficult to concentrate on things?':'ADHD Q4',\n",
    "                       '15. On a scale of 1-5, how often do you compare yourself to other successful people through the use of social media?':'Self Esteem Q1',\n",
    "                       '16. Following the previous question, how do you feel about these comparisons, generally speaking?':'Self Esteem Q2',\n",
    "                       '17. How often do you look to seek validation from features of social media?':'Self Esteem Q3',\n",
    "                       '18. How often do you feel depressed or down?':'Depression Q1',\n",
    "                       '19. On a scale of 1 to 5, how frequently does your interest in daily activities fluctuate?':'Depression Q2',\n",
    "                       '20. On a scale of 1 to 5, how often do you face issues regarding sleep?':'Depression Q3' },inplace=True)\n",
    "\n",
    "data.columns\n"
   ]
  },
  {
   "cell_type": "markdown",
   "metadata": {},
   "source": [
    "Now the columns are shorter which will make handling the data easier. There are also some columns that I won't be needing in my analysis because they do not add information. For example, Timestamp does not add to the dataset, other than telling us when individuals took the survey. Affiliations also does not add because it tells us the same thing as Occupation.  "
   ]
  },
  {
   "cell_type": "code",
   "execution_count": 8,
   "metadata": {},
   "outputs": [
    {
     "data": {
      "text/plain": [
       "Index(['Age', 'Gender', 'Relationship Status', 'Occupation',\n",
       "       'Social Media User?', 'Platforms Used', 'Hours Per Day', 'ADHD Q1',\n",
       "       'ADHD Q2', 'Anxiety Q1', 'ADHD Q3', 'Anxiety Q2', 'ADHD Q4',\n",
       "       'Self Esteem Q1', 'Self Esteem Q2', 'Self Esteem Q3', 'Depression Q1',\n",
       "       'Depression Q2', 'Depression Q3'],\n",
       "      dtype='object')"
      ]
     },
     "execution_count": 8,
     "metadata": {},
     "output_type": "execute_result"
    }
   ],
   "source": [
    "things_to_drop = [\"Timestamp\", \"Affiliations\"]\n",
    "data.drop(things_to_drop, inplace=True, axis=1)\n",
    "data.columns"
   ]
  },
  {
   "cell_type": "markdown",
   "metadata": {},
   "source": [
    "After dropping the columns, I realized that some of the columns are out of order. For example, ADHD Q1, ADHD Q2, Anxiety Q1, ADHD Q3, Anxiety Q2, and ADHD Q4 should be grouped by their categories. "
   ]
  },
  {
   "cell_type": "code",
   "execution_count": 9,
   "metadata": {},
   "outputs": [
    {
     "data": {
      "text/plain": [
       "Index(['Age', 'Gender', 'Relationship Status', 'Occupation',\n",
       "       'Social Media User?', 'Platforms Used', 'Hours Per Day', 'ADHD Q1',\n",
       "       'ADHD Q2', 'ADHD Q3', 'ADHD Q4', 'Anxiety Q1', 'Anxiety Q2',\n",
       "       'Self Esteem Q1', 'Self Esteem Q2', 'Self Esteem Q3', 'Depression Q1',\n",
       "       'Depression Q2', 'Depression Q3'],\n",
       "      dtype='object')"
      ]
     },
     "execution_count": 9,
     "metadata": {},
     "output_type": "execute_result"
    }
   ],
   "source": [
    "columns = list(data.columns)\n",
    "columns[9], columns[10] = columns[10], columns[9]\n",
    "columns[11], columns[12] = columns[12], columns[11]\n",
    "columns[10], columns[11] = columns[11], columns[10]\n",
    "data = data[columns]\n",
    "data.columns"
   ]
  },
  {
   "cell_type": "markdown",
   "metadata": {},
   "source": [
    "### Missing Values\n",
    "\n",
    "Next, I wanted to check to see if there were any missing values in the dataset. After checking the dataset, there are no missing values in the columns"
   ]
  },
  {
   "cell_type": "code",
   "execution_count": 10,
   "metadata": {},
   "outputs": [
    {
     "data": {
      "text/plain": [
       "Age                    0\n",
       "Gender                 0\n",
       "Relationship Status    0\n",
       "Occupation             0\n",
       "Social Media User?     0\n",
       "Platforms Used         0\n",
       "Hours Per Day          0\n",
       "ADHD Q1                0\n",
       "ADHD Q2                0\n",
       "ADHD Q3                0\n",
       "ADHD Q4                0\n",
       "Anxiety Q1             0\n",
       "Anxiety Q2             0\n",
       "Self Esteem Q1         0\n",
       "Self Esteem Q2         0\n",
       "Self Esteem Q3         0\n",
       "Depression Q1          0\n",
       "Depression Q2          0\n",
       "Depression Q3          0\n",
       "dtype: int64"
      ]
     },
     "execution_count": 10,
     "metadata": {},
     "output_type": "execute_result"
    }
   ],
   "source": [
    "missing_values = data.isna().sum()\n",
    "missing_values"
   ]
  },
  {
   "cell_type": "markdown",
   "metadata": {},
   "source": [
    "### Column Values\n",
    "\n",
    "When I was glancing at the dataset I saw that some columns were strings because of how the data was collected. This means that they were able to enter their own values for their Gender. \n",
    "\n",
    "Looking at the values, I saw {'There are others???', 'Trans', 'Nonbinary ', 'Female', 'Male', 'Non-binary', 'unsure ', 'Non binary ', 'NB'}. Looking at this, I wanted to normalize the \"Nonbinary\" \"Non-binary\" \"Non binary\" and \"NB\" values into one string. \n"
   ]
  },
  {
   "cell_type": "code",
   "execution_count": 11,
   "metadata": {},
   "outputs": [
    {
     "name": "stdout",
     "output_type": "stream",
     "text": [
      "Age {26.7, 13.0, 14.0, 15.0, 16.0, 17.0, 18.0, 19.0, 20.0, 21.0, 22.0, 23.0, 24.0, 25.0, 26.0, 27.0, 28.0, 29.0, 30.0, 31.0, 32.0, 33.0, 34.0, 35.0, 36.0, 37.0, 38.0, 40.0, 42.0, 43.0, 44.0, 45.0, 46.0, 47.0, 48.0, 49.0, 50.0, 51.0, 52.0, 53.0, 55.0, 56.0, 60.0, 65.0, 69.0, 91.0}\n",
      "Gender {'There are others???', 'Trans', 'Nonbinary ', 'Female', 'Male', 'Non-binary', 'unsure ', 'Non binary ', 'NB'}\n",
      "Relationship Status {'Married', 'Single', 'Divorced', 'In a relationship'}\n",
      "Occupation {'University Student', 'School Student', 'Salaried Worker', 'Retired'}\n",
      "Social Media User? {'Yes', 'No'}\n",
      "Platforms Used {'Facebook, Instagram, Reddit, TikTok', 'Facebook, Twitter, YouTube, Discord, Pinterest', 'Facebook, Instagram, YouTube, Reddit', 'Instagram, YouTube, Snapchat, Discord, Reddit', 'Facebook, Instagram, YouTube, Snapchat', 'Facebook, Instagram, YouTube, Snapchat, Discord, TikTok', 'Facebook, Instagram', 'Instagram, Reddit', 'Facebook, Instagram, Pinterest', 'Facebook, Twitter, Instagram, YouTube, Snapchat, Reddit, TikTok', 'Facebook, Instagram, YouTube, Reddit, TikTok', 'Facebook, TikTok', 'Twitter', 'Facebook, Twitter, Instagram, YouTube, Discord, Pinterest, TikTok', 'Facebook, Twitter, YouTube', 'Facebook, Twitter, Instagram, YouTube', 'Twitter, YouTube, Discord, Reddit', 'Instagram, YouTube, Snapchat, Discord, Reddit, Pinterest, TikTok', 'YouTube, Snapchat, Discord, Reddit', 'Facebook, Twitter, Instagram, YouTube, Discord, Reddit, Pinterest', 'Facebook, Twitter, Instagram, YouTube, Snapchat, Discord, Reddit, Pinterest', 'Instagram, Discord, Reddit, Pinterest, TikTok', 'Facebook, YouTube, Discord, Pinterest', 'Facebook, Instagram, YouTube, Discord', 'YouTube', 'YouTube, Pinterest', 'Facebook, Discord', 'Discord', 'Facebook, Instagram, YouTube, Snapchat, Discord, Reddit, TikTok', 'Facebook, Instagram, YouTube, Pinterest, TikTok', 'Facebook, Discord, Reddit', 'Facebook, YouTube, Pinterest', 'YouTube, Reddit', 'Twitter, Instagram, YouTube, Snapchat, Reddit, Pinterest, TikTok', 'Facebook, Instagram, YouTube, Reddit, Pinterest, TikTok', 'Facebook, Twitter, Instagram, Snapchat, Reddit', 'Instagram, YouTube, Discord, Reddit, Pinterest', 'Facebook, Twitter, Instagram, YouTube, Snapchat, Discord, Pinterest, TikTok', 'Facebook, Instagram, YouTube, TikTok', 'Reddit', 'Discord, Reddit', 'Facebook, Instagram, YouTube, Snapchat, Discord, Pinterest', 'Facebook, Twitter, YouTube, Pinterest', 'Facebook, Twitter, Instagram, YouTube, Discord, Reddit', 'Twitter, Instagram, YouTube', 'Facebook, Instagram, YouTube, Snapchat, Discord', 'Facebook, Twitter, Instagram, YouTube, Discord, Reddit, TikTok', 'Facebook, Twitter, Instagram, YouTube, Snapchat, Discord, Reddit, TikTok', 'Facebook, Twitter, Instagram, YouTube, Discord, Reddit, Pinterest, TikTok', 'Instagram, YouTube, Discord', 'Facebook, Instagram, YouTube, Discord, Pinterest, TikTok', 'Twitter, Discord, Reddit', 'Facebook, Twitter, YouTube, Discord, Reddit', 'Facebook, Twitter, Instagram, YouTube, Snapchat, Discord, Pinterest', 'Facebook, Instagram, YouTube, Snapchat, Reddit, Pinterest, TikTok', 'Facebook, Twitter', 'Facebook, Twitter, Instagram, YouTube, Snapchat, Discord, Reddit', 'Facebook, Twitter, YouTube, Discord', 'Facebook, Twitter, Instagram, YouTube, Reddit, Pinterest', 'Facebook, YouTube, Discord, Reddit, Pinterest', 'Instagram, YouTube', 'Facebook, Instagram, YouTube, Pinterest', 'Facebook, Instagram, YouTube', 'Twitter, Instagram, YouTube, Reddit, TikTok', 'Facebook, Instagram, YouTube, Snapchat, Discord, Pinterest, TikTok', 'YouTube, Discord, Reddit', 'Twitter, Instagram, YouTube, Snapchat, Discord, Reddit, TikTok', 'Instagram, YouTube, Discord, Reddit, TikTok', 'Twitter, Instagram, YouTube, Snapchat, Discord, Reddit, Pinterest, TikTok', 'Instagram, YouTube, Discord, Pinterest', 'Twitter, Instagram, YouTube, Snapchat, Discord, Reddit', 'Facebook, Instagram, Snapchat, Discord, Pinterest, TikTok', 'Instagram, YouTube, Snapchat, Pinterest', 'Pinterest', 'Twitter, Instagram, YouTube, Discord, Pinterest', 'Facebook, Twitter, Instagram, YouTube, Discord', 'Facebook, Twitter, Instagram, YouTube, Snapchat, TikTok', 'Facebook', 'Facebook, Twitter, Instagram, YouTube, Snapchat', 'TikTok', 'Reddit, Pinterest', 'Instagram, YouTube, Discord, Reddit', 'Instagram, YouTube, Reddit, Pinterest', 'Facebook, Instagram, YouTube, Snapchat, TikTok', 'Facebook, Instagram, YouTube, Discord, Reddit, TikTok', 'Facebook, Twitter, Instagram, YouTube, Reddit', 'Facebook, Twitter, Instagram, YouTube, Discord, Pinterest', 'Facebook, Twitter, Instagram, YouTube, Snapchat, Discord, TikTok', 'Facebook, Twitter, Instagram, YouTube, Pinterest', 'Facebook, Snapchat, Reddit', 'Facebook, Instagram, YouTube, Snapchat, Discord, Reddit, Pinterest', 'Facebook, Instagram, Snapchat', 'Twitter, Instagram, YouTube, TikTok', 'Instagram', 'Facebook, YouTube, Snapchat', 'Facebook, Instagram, YouTube, Discord, Reddit', 'Facebook, YouTube, Reddit', 'Instagram, YouTube, Pinterest', 'Facebook, Instagram, YouTube, Discord, Pinterest', 'Facebook, Instagram, YouTube, Snapchat, Discord, Reddit, Pinterest, TikTok', 'Facebook, Instagram, YouTube, Snapchat, Discord, Reddit', 'Facebook, Instagram, YouTube, Snapchat, Pinterest, TikTok', 'Facebook, Instagram, YouTube, Reddit, Pinterest', 'Facebook, Instagram, YouTube, Discord, Reddit, Pinterest', 'Instagram, Discord', 'YouTube, Discord', 'Facebook, Twitter, Instagram, YouTube, Snapchat, Pinterest', 'YouTube, Snapchat, Discord', 'Facebook, Instagram, TikTok', 'Facebook, YouTube, Snapchat, Discord', 'Facebook, Twitter, Instagram, YouTube, Snapchat, Discord', 'Twitter, YouTube', 'Facebook, Instagram, Snapchat, Pinterest, TikTok', 'Facebook, YouTube, Discord', 'Facebook, YouTube, TikTok', 'Facebook, YouTube, Discord, Reddit', 'Facebook, Twitter, Instagram, YouTube, Snapchat, Reddit, Pinterest', 'Facebook, Twitter, Instagram, YouTube, Reddit, Pinterest, TikTok', 'Facebook, Instagram, YouTube, Snapchat, Pinterest', 'Facebook, YouTube', 'Twitter, Instagram, TikTok', 'Facebook, Twitter, Instagram, YouTube, Snapchat, Discord, Reddit, Pinterest, TikTok', 'Twitter, YouTube, Reddit', 'Facebook, Instagram, Discord', 'Facebook, YouTube, Snapchat, Pinterest'}\n",
      "Hours Per Day {'Between 4 and 5 hours', 'Between 1 and 2 hours', 'More than 5 hours', 'Between 3 and 4 hours', 'Less than an Hour', 'Between 2 and 3 hours'}\n",
      "ADHD Q1 {1, 2, 3, 4, 5}\n",
      "ADHD Q2 {1, 2, 3, 4, 5}\n",
      "ADHD Q3 {1, 2, 3, 4, 5}\n",
      "ADHD Q4 {1, 2, 3, 4, 5}\n",
      "Anxiety Q1 {1, 2, 3, 4, 5}\n",
      "Anxiety Q2 {1, 2, 3, 4, 5}\n",
      "Self Esteem Q1 {1, 2, 3, 4, 5}\n",
      "Self Esteem Q2 {1, 2, 3, 4, 5}\n",
      "Self Esteem Q3 {1, 2, 3, 4, 5}\n",
      "Depression Q1 {1, 2, 3, 4, 5}\n",
      "Depression Q2 {1, 2, 3, 4, 5}\n",
      "Depression Q3 {1, 2, 3, 4, 5}\n"
     ]
    }
   ],
   "source": [
    "for cols in data.columns:\n",
    "    print(cols, set(data[cols]))"
   ]
  },
  {
   "cell_type": "code",
   "execution_count": 14,
   "metadata": {},
   "outputs": [
    {
     "name": "stdout",
     "output_type": "stream",
     "text": [
      "{'There are others???', 'Trans', 'Female', 'Non-Binary', 'Male', 'unsure '}\n"
     ]
    }
   ],
   "source": [
    "data.replace('Non-binary','Non-Binary', inplace=True)\n",
    "data.replace('Nonbinary ','Non-Binary', inplace=True)\n",
    "data.replace('NB','Non-Binary', inplace=True)\n",
    "data.replace('Non binary ','Non-Binary', inplace=True)\n",
    "print(set(data['Gender']))"
   ]
  },
  {
   "cell_type": "markdown",
   "metadata": {},
   "source": [
    "Soemthing about how we have to scale the scores because we asked if they rate their self esteem high or low"
   ]
  },
  {
   "cell_type": "code",
   "execution_count": 13,
   "metadata": {},
   "outputs": [],
   "source": [
    "data.loc[data['Self Esteem Q2'] == 1, 'Self Esteem Q2'] = 5\n",
    "data.loc[data['Self Esteem Q2'] == 2, 'Self Esteem Q2'] = 4\n",
    "data.loc[data['Self Esteem Q2'] == 3, 'Self Esteem Q2'] = 3\n",
    "data.loc[data['Self Esteem Q2'] == 4, 'Self Esteem Q2'] = 2\n",
    "data.loc[data['Self Esteem Q2'] == 5, 'Self Esteem Q2'] = 1"
   ]
  },
  {
   "cell_type": "code",
   "execution_count": null,
   "metadata": {},
   "outputs": [],
   "source": []
  }
 ],
 "metadata": {
  "kernelspec": {
   "display_name": "base",
   "language": "python",
   "name": "python3"
  },
  "language_info": {
   "codemirror_mode": {
    "name": "ipython",
    "version": 3
   },
   "file_extension": ".py",
   "mimetype": "text/x-python",
   "name": "python",
   "nbconvert_exporter": "python",
   "pygments_lexer": "ipython3",
   "version": "3.9.13"
  }
 },
 "nbformat": 4,
 "nbformat_minor": 2
}
